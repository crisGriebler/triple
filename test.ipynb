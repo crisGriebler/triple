{
 "cells": [
  {
   "cell_type": "markdown",
   "metadata": {},
   "source": [
    "To complete this task, use the data set in the attached file. Indicate the answer to each of the following steps and time to complete the entire task.\n",
    "\n",
    "1.1. Download the data set `movie_metadata.csv`, which contains data about films from IMDb (Internet Movie Database)."
   ]
  },
  {
   "cell_type": "code",
   "execution_count": null,
   "metadata": {},
   "outputs": [],
   "source": [
    "import pandas as pd\n",
    "import numpy as np"
   ]
  },
  {
   "cell_type": "markdown",
   "metadata": {},
   "source": []
  }
 ],
 "metadata": {
  "language_info": {
   "name": "python"
  }
 },
 "nbformat": 4,
 "nbformat_minor": 2
}
